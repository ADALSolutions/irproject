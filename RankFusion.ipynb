{
 "cells": [
  {
   "cell_type": "code",
   "execution_count": 2,
   "metadata": {
    "collapsed": true
   },
   "outputs": [],
   "source": [
    "import pandas as pd\n",
    "import numpy as np\n",
    "import scipy as sp\n",
    "from scipy import stats\n",
    "\n",
    "import os\n",
    "import subprocess\n",
    "import sys\n",
    "import shutil\n",
    "\n",
    "import codecs"
   ]
  },
  {
   "cell_type": "code",
   "execution_count": 3,
   "metadata": {
    "collapsed": true
   },
   "outputs": [],
   "source": [
    "from libraryIR import *\n",
    "path_to_pool = \"C:\\\\Users\\\\DavideDP\\\\AnacondaProjects\\\\Project\\\\terrier-core-4.2\\\\share\\\\TIPSTER\\\\pool\\\\qrels.trec7.txt\"     "
   ]
  },
  {
   "cell_type": "markdown",
   "metadata": {},
   "source": [
    "### We execute all basic algorithms of rank fusion and also Condorcet and Condorcet Weighted using 10 runs in input"
   ]
  },
  {
   "cell_type": "code",
   "execution_count": 66,
   "metadata": {
    "collapsed": true
   },
   "outputs": [],
   "source": [
    "main()"
   ]
  },
  {
   "cell_type": "markdown",
   "metadata": {},
   "source": [
    "### We execute this cell to normalize all runs of input\n"
   ]
  },
  {
   "cell_type": "code",
   "execution_count": 4,
   "metadata": {
    "collapsed": true
   },
   "outputs": [],
   "source": [
    "\n",
    "path = \"C:\\\\Users\\\\DavideDP\\\\AnacondaProjects\\\\Project\\\\RankFusion\" \n",
    "    \n",
    "dir_in = \"input\"   \n",
    "filename_list = listFiles(path, dir_in)\n",
    "\n",
    "dir_norm = \"norm\"\n",
    "manageDirectory(path, dir_norm)\n",
    "normalize_score_all(filename_list, path, dir_in, dir_norm)\n",
    "    "
   ]
  },
  {
   "cell_type": "markdown",
   "metadata": {},
   "source": [
    "### We look the MAP of all the runs in input and we order them"
   ]
  },
  {
   "cell_type": "code",
   "execution_count": 16,
   "metadata": {},
   "outputs": [
    {
     "name": "stdout",
     "output_type": "stream",
     "text": [
      "[('n_BB2c1.0_1.res', 0.0785), ('n_In_expB2c1.0_5.res', 0.0784), ('n_LemurTF_IDF_6.res', 0.0765), ('n_LGDc1.0_7.res', 0.0762), ('n_DFR_BM25c1.0_2.res', 0.0754), ('n_BM25b0.75_0.res', 0.075), ('n_TF_IDF_9.res', 0.0749), ('n_DLH_3.res', 0.0743), ('n_DPH_4.res', 0.0728), ('n_PL2c1.0_8.res', 0.069)]\n"
     ]
    }
   ],
   "source": [
    "weights_dict={'n_BM25b0.75_0.res': 0.075, 'n_BB2c1.0_1.res': 0.0785, 'n_DPH_4.res': 0.0728, 'n_LemurTF_IDF_6.res': 0.0765, 'n_PL2c1.0_8.res': 0.069, 'n_DLH_3.res': 0.0743, 'n_TF_IDF_9.res': 0.0749, 'n_In_expB2c1.0_5.res': 0.0784, 'n_DFR_BM25c1.0_2.res': 0.0754, 'n_LGDc1.0_7.res': 0.0762}\n",
    "import operator\n",
    "sorted_w = sorted(weights_dict.items(), key=operator.itemgetter(1), reverse=True)\n",
    "print sorted_w \n"
   ]
  },
  {
   "cell_type": "markdown",
   "metadata": {},
   "source": [
    "### We calculate the weight for each run in input"
   ]
  },
  {
   "cell_type": "code",
   "execution_count": 85,
   "metadata": {},
   "outputs": [
    {
     "data": {
      "text/plain": [
       "{'n_BB2c1.0_1.res': 0.0784807448219,\n",
       " 'n_BM25b0.75_0.res': 0.0750220975128,\n",
       " 'n_DFR_BM25c1.0_2.res': 0.0753919870239,\n",
       " 'n_DLH_3.res': 0.0743080544041,\n",
       " 'n_DPH_4.res': 0.0727569170341,\n",
       " 'n_In_expB2c1.0_5.res': 0.0784051172339,\n",
       " 'n_LGDc1.0_7.res': 0.0761723393114,\n",
       " 'n_LemurTF_IDF_6.res': 0.0764847212086,\n",
       " 'n_PL2c1.0_8.res': 0.0689744381337,\n",
       " 'n_TF_IDF_9.res': 0.0748673191397}"
      ]
     },
     "execution_count": 85,
     "metadata": {},
     "output_type": "execute_result"
    }
   ],
   "source": [
    "path = \"C:\\\\Users\\\\DavideDP\\\\AnacondaProjects\\\\Project\\\\RankFusion\"     \n",
    "dir_norm = \"norm\" \n",
    "dir_w = \"weights\"  \n",
    "findWeights(path, dir_norm, dir_w,exist=False)"
   ]
  },
  {
   "cell_type": "markdown",
   "metadata": {},
   "source": [
    "### We compare MAP for each comb algorithm and we put in decreasing order"
   ]
  },
  {
   "cell_type": "code",
   "execution_count": 68,
   "metadata": {
    "collapsed": true
   },
   "outputs": [],
   "source": [
    "#Acquisisce MAP per ogni comb creata\n",
    "path = \"C:\\\\Users\\\\DavideDP\\\\AnacondaProjects\\\\Project\\\\RankFusion\"     \n",
    "dir_in = \"input\"   \n",
    "dir_w = \"weights\"       \n",
    "dir_norm = \"norm\"\n",
    "dir_comb = \"comb\"\n",
    "\n",
    "filename_list = listFiles(path, dir_comb)\n",
    "results={}\n",
    "for filename in filename_list:\n",
    "    MAP=take_MAP(path,dir_comb,dir_w,filename,True)\n",
    "    results[filename]=MAP"
   ]
  },
  {
   "cell_type": "code",
   "execution_count": 69,
   "metadata": {},
   "outputs": [
    {
     "name": "stdout",
     "output_type": "stream",
     "text": [
      "{'comb_min.txt': 0.0672, 'comb_anz.txt': 0.0764, 'condorcet.txt': 0.0773, 'comb_median.txt': 0.0749, 'comb_max.txt': 0.0727, 'comb_mnz.txt': 0.0782, 'condorcetWeighted.txt': 0.0775, 'comb_sum.txt': 0.0782}\n",
      "[('comb_mnz.txt', 0.0782), ('comb_sum.txt', 0.0782), ('condorcetWeighted.txt', 0.0775), ('condorcet.txt', 0.0773), ('comb_anz.txt', 0.0764), ('comb_median.txt', 0.0749), ('comb_max.txt', 0.0727), ('comb_min.txt', 0.0672)]\n"
     ]
    }
   ],
   "source": [
    "print results\n",
    "print \"\\n\"\n",
    "import operator\n",
    "sorted_res = sorted(results.items(), key=operator.itemgetter(1), reverse=True)\n",
    "print sorted_res"
   ]
  },
  {
   "cell_type": "code",
   "execution_count": null,
   "metadata": {
    "collapsed": true
   },
   "outputs": [],
   "source": []
  }
 ],
 "metadata": {
  "anaconda-cloud": {},
  "kernelspec": {
   "display_name": "Python [conda env:py27]",
   "language": "python",
   "name": "conda-env-py27-py"
  },
  "language_info": {
   "codemirror_mode": {
    "name": "ipython",
    "version": 2
   },
   "file_extension": ".py",
   "mimetype": "text/x-python",
   "name": "python",
   "nbconvert_exporter": "python",
   "pygments_lexer": "ipython2",
   "version": "2.7.14"
  }
 },
 "nbformat": 4,
 "nbformat_minor": 1
}
