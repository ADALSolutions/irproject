{
 "cells": [
  {
   "cell_type": "code",
   "execution_count": 2,
   "metadata": {
    "collapsed": true
   },
   "outputs": [],
   "source": [
    "import pandas as pd\n",
    "import numpy as np\n",
    "import scipy as sp\n",
    "from scipy import stats\n",
    "\n",
    "import os\n",
    "import subprocess\n",
    "import sys\n",
    "import shutil\n",
    "\n",
    "import codecs"
   ]
  },
  {
   "cell_type": "code",
   "execution_count": 3,
   "metadata": {
    "collapsed": true
   },
   "outputs": [],
   "source": [
    "from libraryIR import *"
   ]
  },
  {
   "cell_type": "code",
   "execution_count": 5,
   "metadata": {},
   "outputs": [
    {
     "data": {
      "text/plain": [
       "' \\nfor f in filename_list:\\n    length=len(models)\\n    if( f.endswith(\".res\")  ):\\n\\n        b=f[0:len(f)-4]\\n        for i in range(0,length,1):\\n            if b.endswith(\"_\"+str(i)):\\n                src=path_to_results+\"\\\\results\\\\\"+f\\n                dest=path_to_results+\"\\\\results\\\\\"+b+\"_\"+sufix+\".res\"\\n                #print src\\n                #print dest\\n                os.rename(src,dest)\\n           \\nfilename_list = listFiles(path_to_results, \"results\")\\nfor f in filename_list:\\n    if(not f.endswith(\".res\")):\\n        os.remove(path_to_results+\"\\\\results\\\\\"+f)\\n'"
      ]
     },
     "execution_count": 5,
     "metadata": {},
     "output_type": "execute_result"
    }
   ],
   "source": [
    "#Nota devi avvere terrier-core-4.2 nella stessa directory del notebook\n",
    "def execRun(cwd,model):\n",
    "\n",
    "    process = \"{}trec_terrier -r -Dtrec.model={} -Dtrec.topics={}\"\n",
    "    path_to_bin = cwd+\"\\\\\"+\"terrier-core-4.2\\\\bin\\\\\"\n",
    "    path_to_topics = cwd+\"\\\\\"+\"terrier-core-4.2\\\\share\\\\TIPSTER\\\\topics\\\\topics.351-400_trec7.txt\"\n",
    "    process=str(process.format(path_to_bin, model, path_to_topics))\n",
    "    #print process\n",
    "    p = subprocess.check_output(process, shell=True)\n",
    "\n",
    "sufix=\"\"#\"StemmerStop\"#Modello con Stemmer e Stop Removal\n",
    "models=[\"BB2\",\"BM25\",\"DFR_BM25\",\"DLH\",\"DPH\",\"In_expB2\",\"LemurTF_IDF\",\"LGD\",\"PL2\",\"TF_IDF\"]\n",
    "cwd=os.getcwd()\n",
    "\n",
    "for model in models:\n",
    "    #print model\n",
    "    execRun(cwd,model)\n",
    "\n",
    "path_to_results=cwd+\"\\\\\"+\"terrier-core-4.2\\\\var\"\n",
    "filename_list = listFiles(path_to_results, \"results\")\n",
    "#print filename_list\n",
    "\n",
    "\"\"\" \n",
    "for f in filename_list:\n",
    "    length=len(models)\n",
    "    if( f.endswith(\".res\")  ):\n",
    "\n",
    "        b=f[0:len(f)-4]\n",
    "        for i in range(0,length,1):\n",
    "            if b.endswith(\"_\"+str(i)):\n",
    "                src=path_to_results+\"\\\\results\\\\\"+f\n",
    "                dest=path_to_results+\"\\\\results\\\\\"+b+\"_\"+sufix+\".res\"\n",
    "                #print src\n",
    "                #print dest\n",
    "                os.rename(src,dest)\n",
    "           \n",
    "filename_list = listFiles(path_to_results, \"results\")\n",
    "for f in filename_list:\n",
    "    if(not f.endswith(\".res\")):\n",
    "        os.remove(path_to_results+\"\\\\results\\\\\"+f)\n",
    "\"\"\"  "
   ]
  },
  {
   "cell_type": "code",
   "execution_count": null,
   "metadata": {
    "collapsed": true
   },
   "outputs": [],
   "source": []
  }
 ],
 "metadata": {
  "anaconda-cloud": {},
  "kernelspec": {
   "display_name": "Python [conda env:py27]",
   "language": "python",
   "name": "conda-env-py27-py"
  },
  "language_info": {
   "codemirror_mode": {
    "name": "ipython",
    "version": 2
   },
   "file_extension": ".py",
   "mimetype": "text/x-python",
   "name": "python",
   "nbconvert_exporter": "python",
   "pygments_lexer": "ipython2",
   "version": "2.7.14"
  }
 },
 "nbformat": 4,
 "nbformat_minor": 1
}
